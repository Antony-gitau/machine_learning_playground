{
  "nbformat": 4,
  "nbformat_minor": 0,
  "metadata": {
    "colab": {
      "provenance": []
    },
    "kernelspec": {
      "name": "python3",
      "display_name": "Python 3"
    },
    "language_info": {
      "name": "python"
    }
  },
  "cells": [
    {
      "cell_type": "code",
      "source": [
        "import torch\n",
        "import torch.nn as nn\n",
        "import copy"
      ],
      "metadata": {
        "id": "6zuDyV0QVzkw"
      },
      "execution_count": 3,
      "outputs": []
    },
    {
      "cell_type": "markdown",
      "source": [
        "Encoder and decoder stacks"
      ],
      "metadata": {
        "id": "rNkDjknYVOul"
      }
    },
    {
      "cell_type": "markdown",
      "source": [
        "- original paper had 6 identical encoder layers. so the clone function will help create copies of the encoder architecture."
      ],
      "metadata": {
        "id": "-jNukuPAXFSm"
      }
    },
    {
      "cell_type": "code",
      "execution_count": 1,
      "metadata": {
        "id": "FE8pn9t_VIep"
      },
      "outputs": [],
      "source": [
        "def clone(module, N):\n",
        "  return nn.ModuleList([copy.deepcopy(module) for _ in range(N)])"
      ]
    },
    {
      "cell_type": "code",
      "source": [
        "class Encoder(nn.Module):\n",
        "  def __init__(self, layer, N):\n",
        "    super(Encoder, self).__init__()\n",
        "    self.layers = clone(layer, N)\n",
        "    self.norm = LayerNorm(layer.size)\n",
        "\n",
        "  def forward(self, x, mask):\n",
        "    for layer in self.layers:\n",
        "      x = layer(x, mask)\n",
        "    return self.norm(x)"
      ],
      "metadata": {
        "id": "pRZyiUXEYvvy"
      },
      "execution_count": null,
      "outputs": []
    },
    {
      "cell_type": "code",
      "source": [
        "class LayerNorm(nn.Module):\n",
        "  def __init__(self, features, eps = 1e-6):\n",
        "    super(LayerNorm, self).__init__()\n",
        "    self.a_2 = nn.Parameter(torch.ones(features))\n",
        "    self.b_2 = nn.Parameter(torch.zeros(features))\n",
        "    self.eps = eps\n",
        "\n",
        "  def forward(self, x):\n",
        "    mean = x.mean(-1, keepdim =True)\n",
        "    std = x.std(-1, keepdim = True)\n",
        "    return self.a_2 * (x - mean) / (std + self.eps) + self.b_2\n"
      ],
      "metadata": {
        "id": "dNU6Om7ucAtm"
      },
      "execution_count": 4,
      "outputs": []
    },
    {
      "cell_type": "markdown",
      "source": [
        "The normalization formula:\n",
        "\n",
        "(x - mean): This subtracts the mean from the input data, centering it around zero.\n",
        "(std + self.eps): This adds the small epsilon value to the standard deviation for numerical stability.\n",
        "(x - mean) / (std + self.eps): This divides the zero-centered data by the adjusted standard deviation, ensuring that the data has a unit variance.\n",
        "self.a_2 * ... + self.b_2: This scales and shifts the normalized data using the learnable parameters.\n"
      ],
      "metadata": {
        "id": "IESJloHadXRZ"
      }
    },
    {
      "cell_type": "code",
      "source": [],
      "metadata": {
        "id": "w7G9yTOMdZcK"
      },
      "execution_count": null,
      "outputs": []
    }
  ]
}