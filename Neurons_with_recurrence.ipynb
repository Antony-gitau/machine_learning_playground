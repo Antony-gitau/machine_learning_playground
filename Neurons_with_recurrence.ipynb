{
  "nbformat": 4,
  "nbformat_minor": 0,
  "metadata": {
    "colab": {
      "provenance": [],
      "authorship_tag": "ABX9TyMrNcCLUnzbTY44r6WtEEZL",
      "include_colab_link": true
    },
    "kernelspec": {
      "name": "python3",
      "display_name": "Python 3"
    },
    "language_info": {
      "name": "python"
    }
  },
  "cells": [
    {
      "cell_type": "markdown",
      "metadata": {
        "id": "view-in-github",
        "colab_type": "text"
      },
      "source": [
        "<a href=\"https://colab.research.google.com/github/Antony-gitau/machine_learning_playground/blob/main/Neurons_with_recurrence.ipynb\" target=\"_parent\"><img src=\"https://colab.research.google.com/assets/colab-badge.svg\" alt=\"Open In Colab\"/></a>"
      ]
    },
    {
      "cell_type": "markdown",
      "source": [
        "I am following the [MIT 6.S191 lecture on recurrent neural network](https://youtu.be/ySEx_Bqxvvo) and taking some notes and here I document them.\n",
        "\n",
        "Sequence modelling applications:\n",
        "- machine translation \n",
        "- image captioning\n",
        "- semantic classification\n",
        "\n",
        "\n",
        "Neuron with recurrence\n",
        "- RNN\n",
        "\n",
        "pseudocode of an RNN\n",
        "\n",
        "1. Define the rnn;\n",
        "my_rnn = RNN()\n",
        "2. iterate through all the inputs\n",
        "3. calculate and update the hidden state using an activation function\n",
        "4. generate a predicted output.\n",
        "\n",
        "design criteria for developing networks for sequence modelling:\n",
        "- handle variable lengths\n",
        "- track long dependencies\n",
        "- maintain information about the order of the sequence\n",
        "- share parameters across the sequence\n",
        "\n",
        "example: \n",
        "predicting the next word.\n",
        "\n",
        "1. represent language to a neural network\n",
        "- represent words as numerical representation. \n",
        "\n",
        "one way to represent words as input vectors of a neural network, we use a one hot encoding technique. By one hot encoding we mean, taking a count of every word in a single vector and identifying the word with a 1 and 0 everywhere else. e.g [0,1,0,0] is a one hot vector of a word in the second index (that is appearing second on the count of words in the sequence)\n",
        "\n",
        "2. Training and learning through neural networks\n",
        "\n",
        "- backpropagation through time.\n",
        "\n",
        "challenges:\n",
        "1. exploding gradients\n",
        "- the gradient gets bigger and bigger until its unfeaseble to calculate it, and by extension, training a model becomes unstable.\n",
        "2. vanishing gradients\n",
        "- the gradient on the other hand gets smaller and smaller, until it becomes insignificant.\n",
        "\n",
        "tricks to overcome the challenges:\n",
        "1. changing activation functions\n",
        "e.g ReLU is an a function that prevents the gradient from shrinking\n",
        "2. parameter initialization\n",
        "3. introducing gated cells.\n",
        "select flow of information in the neural network. like the LSTMs\n",
        "\n",
        "applications and limitations of RNN\n",
        "\n",
        "Music generation\n",
        "- Design an RNN that can predict the next musical note.\n",
        "\n",
        "limitation\n",
        "- encoding bottleneck\n",
        "- no easy parallelization techniques\n",
        "- not that long memory for quite long sequences, like the 10,000s of words\n",
        "\n",
        "Attention is all you need:\n",
        "- attend to the most import part of an input example.\n",
        "- extract the features deserve the highest attention.\n",
        "\n",
        "\n",
        "Let jump into a practical section drawing inspiration from [music generation with RNN lab](https://github.com/aamini/introtodeeplearning/blob/master/lab1/Part2_Music_Generation.ipynb) by MIT Introduction to Deep learning course.\n",
        "\n",
        "The goal is to train a model to generate new music from learning the patterns in raw sheet music.\n",
        "\n"
      ],
      "metadata": {
        "id": "cpJyUI9IDMQF"
      }
    },
    {
      "cell_type": "code",
      "execution_count": 1,
      "metadata": {
        "id": "VuvW5pEkDE0K"
      },
      "outputs": [],
      "source": [
        "%%capture\n",
        "%tensorflow_version 2.x #ensuring we are using any tensorflow 2. something version\n",
        "import tensorflow as tf\n",
        "\n",
        "# the data we are using lives in mitdeeplearning package\n",
        "!pip install mitdeeplearning\n",
        "import mitdeeplearning as mdl\n",
        "\n",
        "\n",
        "\n"
      ]
    },
    {
      "cell_type": "markdown",
      "source": [
        "Data:\n",
        "- the mitdeeplearning package has an irish folk song data set that has thousands os songs.\n"
      ],
      "metadata": {
        "id": "hwReI4pgjox3"
      }
    },
    {
      "cell_type": "code",
      "source": [
        "songs = mdl.lab1.load_training_data()\n",
        "first_song = songs[0]\n",
        "print(\"This is just an example\\n \", first_song)"
      ],
      "metadata": {
        "colab": {
          "base_uri": "https://localhost:8080/"
        },
        "id": "Nipusg5rj3BH",
        "outputId": "3c7634ab-4c28-44e5-a348-ebb616c2f6b5"
      },
      "execution_count": 3,
      "outputs": [
        {
          "output_type": "stream",
          "name": "stdout",
          "text": [
            "Found 817 songs in text\n",
            "This is just an example\n",
            "  X:1\n",
            "T:Alexander's\n",
            "Z: id:dc-hornpipe-1\n",
            "M:C|\n",
            "L:1/8\n",
            "K:D Major\n",
            "(3ABc|dAFA DFAd|fdcd FAdf|gfge fefd|(3efe (3dcB A2 (3ABc|!\n",
            "dAFA DFAd|fdcd FAdf|gfge fefd|(3efe dc d2:|!\n",
            "AG|FAdA FAdA|GBdB GBdB|Acec Acec|dfaf gecA|!\n",
            "FAdA FAdA|GBdB GBdB|Aceg fefd|(3efe dc d2:|!\n"
          ]
        }
      ]
    },
    {
      "cell_type": "code",
      "source": [
        "#converting the abc notation of the songs to audio file\n",
        "play_first_song = mdl.lab1.play_song(first_song)\n",
        "play_first_song"
      ],
      "metadata": {
        "colab": {
          "base_uri": "https://localhost:8080/"
        },
        "id": "ZhEuJzWzkPo2",
        "outputId": "16d5ef8a-6381-416c-dee1-4b7b571e857a"
      },
      "execution_count": 5,
      "outputs": [
        {
          "output_type": "stream",
          "name": "stderr",
          "text": [
            "/usr/local/lib/python3.10/dist-packages/ipykernel/ipkernel.py:283: DeprecationWarning: `should_run_async` will not call `transform_cell` automatically in the future. Please pass the result to `transformed_cell` argument and any exception that happen during thetransform in `preprocessing_exc_tuple` in IPython 7.17 and above.\n",
            "  and should_run_async(code)\n"
          ]
        }
      ]
    },
    {
      "cell_type": "markdown",
      "source": [
        "Important questions:\n",
        "\n",
        "how does the number of different characters present in the text file impact the complexity of the learning problem?\n",
        "\n"
      ],
      "metadata": {
        "id": "BqOjn2B_lSBT"
      }
    },
    {
      "cell_type": "code",
      "source": [
        "#join the songs leaving a blank line between them\n",
        "joined_songs = \"\\n\\n\".join(songs)\n",
        "\n",
        "# lets get unique characters from the list of songs we just joined \n",
        "vocab = sorted(set(joined_songs))\n",
        "print(\"we have \", len(vocab), \"unique characters in the irish folk songs dataset\")"
      ],
      "metadata": {
        "colab": {
          "base_uri": "https://localhost:8080/"
        },
        "id": "HNd-e3jbkpsZ",
        "outputId": "3256e0b5-5149-41d6-d9c6-ee82cd67dee2"
      },
      "execution_count": 6,
      "outputs": [
        {
          "output_type": "stream",
          "name": "stdout",
          "text": [
            "we have  83 unique characters in the irish folk songs dataset\n"
          ]
        }
      ]
    },
    {
      "cell_type": "code",
      "source": [
        "vocab"
      ],
      "metadata": {
        "colab": {
          "base_uri": "https://localhost:8080/"
        },
        "id": "hWgRn-PJnNWi",
        "outputId": "1a47e483-db91-4099-d2b6-ca6da40565c2"
      },
      "execution_count": 7,
      "outputs": [
        {
          "output_type": "stream",
          "name": "stderr",
          "text": [
            "/usr/local/lib/python3.10/dist-packages/ipykernel/ipkernel.py:283: DeprecationWarning: `should_run_async` will not call `transform_cell` automatically in the future. Please pass the result to `transformed_cell` argument and any exception that happen during thetransform in `preprocessing_exc_tuple` in IPython 7.17 and above.\n",
            "  and should_run_async(code)\n"
          ]
        },
        {
          "output_type": "execute_result",
          "data": {
            "text/plain": [
              "['\\n',\n",
              " ' ',\n",
              " '!',\n",
              " '\"',\n",
              " '#',\n",
              " \"'\",\n",
              " '(',\n",
              " ')',\n",
              " ',',\n",
              " '-',\n",
              " '.',\n",
              " '/',\n",
              " '0',\n",
              " '1',\n",
              " '2',\n",
              " '3',\n",
              " '4',\n",
              " '5',\n",
              " '6',\n",
              " '7',\n",
              " '8',\n",
              " '9',\n",
              " ':',\n",
              " '<',\n",
              " '=',\n",
              " '>',\n",
              " 'A',\n",
              " 'B',\n",
              " 'C',\n",
              " 'D',\n",
              " 'E',\n",
              " 'F',\n",
              " 'G',\n",
              " 'H',\n",
              " 'I',\n",
              " 'J',\n",
              " 'K',\n",
              " 'L',\n",
              " 'M',\n",
              " 'N',\n",
              " 'O',\n",
              " 'P',\n",
              " 'Q',\n",
              " 'R',\n",
              " 'S',\n",
              " 'T',\n",
              " 'U',\n",
              " 'V',\n",
              " 'W',\n",
              " 'X',\n",
              " 'Y',\n",
              " 'Z',\n",
              " '[',\n",
              " ']',\n",
              " '^',\n",
              " '_',\n",
              " 'a',\n",
              " 'b',\n",
              " 'c',\n",
              " 'd',\n",
              " 'e',\n",
              " 'f',\n",
              " 'g',\n",
              " 'h',\n",
              " 'i',\n",
              " 'j',\n",
              " 'k',\n",
              " 'l',\n",
              " 'm',\n",
              " 'n',\n",
              " 'o',\n",
              " 'p',\n",
              " 'q',\n",
              " 'r',\n",
              " 's',\n",
              " 't',\n",
              " 'u',\n",
              " 'v',\n",
              " 'w',\n",
              " 'x',\n",
              " 'y',\n",
              " 'z',\n",
              " '|']"
            ]
          },
          "metadata": {},
          "execution_count": 7
        }
      ]
    },
    {
      "cell_type": "markdown",
      "source": [
        "preprocessing:\n",
        "\n",
        "- we are asking the model: given a sequence of characters, what is the most probable next one? This is the goal of this model development.\n",
        "\n",
        "- the data we have is ABC notation, and we want the RNN to learn the pattern.\n",
        "\n",
        "\n",
        "so,\n",
        "\n",
        "1. we need to vectorize the text.\n",
        "- creating a numerical representation of the musical text. \n",
        "- we will therefore generate two lookup tables: one to map the characters to numbers and the other will map numbers back to characters.\n",
        "\n",
        "\n",
        "notes on the dictionary comprehension below:\n",
        "\n",
        "its equivalent for loop\n",
        "\n",
        "      char2indx = {}\n",
        "      for ind, ch in enumerate(vocab): \n",
        "         char2indx[ch] = ind\n"
      ],
      "metadata": {
        "id": "CYJmOwaLnpWu"
      }
    },
    {
      "cell_type": "code",
      "source": [
        "import numpy as np\n",
        "\n",
        "# mapping characters to unique index\n",
        "char2indx = {ch:indx for indx, ch in enumerate(vocab)}\n",
        "\n",
        "# now we move from the unique index to the characters in vocab list\n",
        "indx2char = np.array(vocab)"
      ],
      "metadata": {
        "colab": {
          "base_uri": "https://localhost:8080/"
        },
        "id": "Tb0H1YUjncHJ",
        "outputId": "44fd6575-a357-4512-a667-d6deba173ec5"
      },
      "execution_count": 15,
      "outputs": [
        {
          "output_type": "stream",
          "name": "stderr",
          "text": [
            "/usr/local/lib/python3.10/dist-packages/ipykernel/ipkernel.py:283: DeprecationWarning: `should_run_async` will not call `transform_cell` automatically in the future. Please pass the result to `transformed_cell` argument and any exception that happen during thetransform in `preprocessing_exc_tuple` in IPython 7.17 and above.\n",
            "  and should_run_async(code)\n"
          ]
        }
      ]
    },
    {
      "cell_type": "code",
      "source": [
        "char2indx"
      ],
      "metadata": {
        "colab": {
          "base_uri": "https://localhost:8080/"
        },
        "id": "W3UrOAKGum2N",
        "outputId": "d84f7c1b-8c10-479e-8f38-e24e09bf8a5e"
      },
      "execution_count": 16,
      "outputs": [
        {
          "output_type": "execute_result",
          "data": {
            "text/plain": [
              "{'\\n': 0,\n",
              " ' ': 1,\n",
              " '!': 2,\n",
              " '\"': 3,\n",
              " '#': 4,\n",
              " \"'\": 5,\n",
              " '(': 6,\n",
              " ')': 7,\n",
              " ',': 8,\n",
              " '-': 9,\n",
              " '.': 10,\n",
              " '/': 11,\n",
              " '0': 12,\n",
              " '1': 13,\n",
              " '2': 14,\n",
              " '3': 15,\n",
              " '4': 16,\n",
              " '5': 17,\n",
              " '6': 18,\n",
              " '7': 19,\n",
              " '8': 20,\n",
              " '9': 21,\n",
              " ':': 22,\n",
              " '<': 23,\n",
              " '=': 24,\n",
              " '>': 25,\n",
              " 'A': 26,\n",
              " 'B': 27,\n",
              " 'C': 28,\n",
              " 'D': 29,\n",
              " 'E': 30,\n",
              " 'F': 31,\n",
              " 'G': 32,\n",
              " 'H': 33,\n",
              " 'I': 34,\n",
              " 'J': 35,\n",
              " 'K': 36,\n",
              " 'L': 37,\n",
              " 'M': 38,\n",
              " 'N': 39,\n",
              " 'O': 40,\n",
              " 'P': 41,\n",
              " 'Q': 42,\n",
              " 'R': 43,\n",
              " 'S': 44,\n",
              " 'T': 45,\n",
              " 'U': 46,\n",
              " 'V': 47,\n",
              " 'W': 48,\n",
              " 'X': 49,\n",
              " 'Y': 50,\n",
              " 'Z': 51,\n",
              " '[': 52,\n",
              " ']': 53,\n",
              " '^': 54,\n",
              " '_': 55,\n",
              " 'a': 56,\n",
              " 'b': 57,\n",
              " 'c': 58,\n",
              " 'd': 59,\n",
              " 'e': 60,\n",
              " 'f': 61,\n",
              " 'g': 62,\n",
              " 'h': 63,\n",
              " 'i': 64,\n",
              " 'j': 65,\n",
              " 'k': 66,\n",
              " 'l': 67,\n",
              " 'm': 68,\n",
              " 'n': 69,\n",
              " 'o': 70,\n",
              " 'p': 71,\n",
              " 'q': 72,\n",
              " 'r': 73,\n",
              " 's': 74,\n",
              " 't': 75,\n",
              " 'u': 76,\n",
              " 'v': 77,\n",
              " 'w': 78,\n",
              " 'x': 79,\n",
              " 'y': 80,\n",
              " 'z': 81,\n",
              " '|': 82}"
            ]
          },
          "metadata": {},
          "execution_count": 16
        }
      ]
    },
    {
      "cell_type": "code",
      "source": [
        "indx2char"
      ],
      "metadata": {
        "colab": {
          "base_uri": "https://localhost:8080/"
        },
        "id": "SSBnak_2uoed",
        "outputId": "4a9ce7ed-569a-4bd1-f362-5e021a090505"
      },
      "execution_count": 19,
      "outputs": [
        {
          "output_type": "execute_result",
          "data": {
            "text/plain": [
              "array(['\\n', ' ', '!', '\"', '#', \"'\", '(', ')', ',', '-', '.', '/', '0',\n",
              "       '1', '2', '3', '4', '5', '6', '7', '8', '9', ':', '<', '=', '>',\n",
              "       'A', 'B', 'C', 'D', 'E', 'F', 'G', 'H', 'I', 'J', 'K', 'L', 'M',\n",
              "       'N', 'O', 'P', 'Q', 'R', 'S', 'T', 'U', 'V', 'W', 'X', 'Y', 'Z',\n",
              "       '[', ']', '^', '_', 'a', 'b', 'c', 'd', 'e', 'f', 'g', 'h', 'i',\n",
              "       'j', 'k', 'l', 'm', 'n', 'o', 'p', 'q', 'r', 's', 't', 'u', 'v',\n",
              "       'w', 'x', 'y', 'z', '|'], dtype='<U1')"
            ]
          },
          "metadata": {},
          "execution_count": 19
        }
      ]
    },
    {
      "cell_type": "markdown",
      "source": [
        "comment on dtype = '<UI' \n",
        "\n",
        "seen above from running the indx2char.\n",
        "\n",
        "that datatype specifies that the array elements are unsigned 1-byte integers."
      ],
      "metadata": {
        "id": "tEfIPw-FwvDr"
      }
    },
    {
      "cell_type": "code",
      "source": [
        "# vetorize the song strings\n",
        "def vectorize_string(string):\n",
        "  '''\n",
        "  we pass a string ie the song \n",
        "  then convert the string to indexes \n",
        "  then the indexes to arrays for easier storage and manipulation\n",
        "  '''"
      ],
      "metadata": {
        "id": "m0ufOZqdwGRK"
      },
      "execution_count": null,
      "outputs": []
    }
  ]
}